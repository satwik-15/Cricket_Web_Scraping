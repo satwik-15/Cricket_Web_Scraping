{
  "cells": [
    {
      "cell_type": "code",
      "execution_count": 70,
      "id": "66d31159-343a-4ed9-8194-01ff298b3764",
      "metadata": {
        "id": "66d31159-343a-4ed9-8194-01ff298b3764"
      },
      "outputs": [],
      "source": [
        "import pandas as pd\n",
        "import requests\n",
        "from bs4 import BeautifulSoup"
      ]
    },
    {
      "cell_type": "code",
      "execution_count": 71,
      "id": "9006a861-bf43-4f9e-a3b2-588c890ec95a",
      "metadata": {
        "id": "9006a861-bf43-4f9e-a3b2-588c890ec95a"
      },
      "outputs": [],
      "source": [
        "webpage=requests.get('https://crex.live/fixtures/match-list').text"
      ]
    },
    {
      "cell_type": "code",
      "execution_count": 72,
      "id": "14518257-6fe7-4f00-b5d3-9109b874c4d1",
      "metadata": {
        "id": "14518257-6fe7-4f00-b5d3-9109b874c4d1"
      },
      "outputs": [],
      "source": [
        "soup=BeautifulSoup(webpage,'lxml')"
      ]
    },
    {
      "cell_type": "code",
      "execution_count": 73,
      "id": "641131d5-c6b4-4755-bd1a-f0bdff806520",
      "metadata": {
        "id": "641131d5-c6b4-4755-bd1a-f0bdff806520"
      },
      "outputs": [],
      "source": [
        "matches=soup.find_all(class_='matches-card-space')\n",
        "dates=soup.find_all(class_='date')"
      ]
    },
    {
      "cell_type": "code",
      "execution_count": 74,
      "id": "ee5894f5-3131-47d6-bf85-a84efe37f3b9",
      "metadata": {
        "colab": {
          "base_uri": "https://localhost:8080/"
        },
        "id": "ee5894f5-3131-47d6-bf85-a84efe37f3b9",
        "outputId": "a966c19c-ecb6-44e0-8f71-fa7c34aea3ad"
      },
      "outputs": [
        {
          "output_type": "execute_result",
          "data": {
            "text/plain": [
              "2"
            ]
          },
          "metadata": {},
          "execution_count": 74
        }
      ],
      "source": [
        "len(matches)"
      ]
    },
    {
      "cell_type": "code",
      "source": [
        "dates"
      ],
      "metadata": {
        "colab": {
          "base_uri": "https://localhost:8080/"
        },
        "id": "pnZq7_rN3S5y",
        "outputId": "579878bd-5f65-4573-c6ce-3ef131afb460"
      },
      "id": "pnZq7_rN3S5y",
      "execution_count": 75,
      "outputs": [
        {
          "output_type": "execute_result",
          "data": {
            "text/plain": [
              "[<div _ngcontent-sc125=\"\" class=\"date\"><div _ngcontent-sc125=\"\">Tue, 12 Nov 2024</div><!-- --><!-- --></div>,\n",
              " <div _ngcontent-sc125=\"\" class=\"date\"><div _ngcontent-sc125=\"\">Wed, 13 Nov 2024</div><!-- --><!-- --></div>]"
            ]
          },
          "metadata": {},
          "execution_count": 75
        }
      ]
    },
    {
      "cell_type": "code",
      "source": [
        "def scrape_scorecard(url):\n",
        "    scorecard_page = requests.get(url).text\n",
        "    scorecard_soup = BeautifulSoup(scorecard_page, 'lxml')\n",
        "\n",
        "    scorecard = scorecard_soup.find_all('table')\n",
        "    if scorecard:\n",
        "        print('Scorecard Details:')\n",
        "        for score in scorecard:\n",
        "            print(f\" {score.text.split('/n')}\")\n",
        "    else:\n",
        "        print(\"No scorecard available\")"
      ],
      "metadata": {
        "id": "oWiGI2xyCAFP"
      },
      "id": "oWiGI2xyCAFP",
      "execution_count": 76,
      "outputs": []
    },
    {
      "cell_type": "code",
      "source": [
        "for i in range(len(dates)):\n",
        "    print()\n",
        "    print(dates[i].text.strip())\n",
        "    print()\n",
        "\n",
        "    if i < len(matches):\n",
        "        match_details = matches[i].find_all('div', class_='match-details')\n",
        "\n",
        "        for match in match_details:\n",
        "            tn = []\n",
        "            ts = []\n",
        "            to = []\n",
        "\n",
        "            team_name_elements = match.find_all('span', class_='team-name')\n",
        "            if len(team_name_elements) >= 2:\n",
        "                for k in range(2):\n",
        "                    tn.append(team_name_elements[k].text)\n",
        "\n",
        "                    if match.find(class_='not-started'):\n",
        "                        continue\n",
        "                    else:\n",
        "                        team_score_elements = match.find_all('span', class_='team-score')\n",
        "                        if len(team_score_elements) > k:\n",
        "                            ts.append(team_score_elements[k].text)\n",
        "                        else:\n",
        "                            ts.append(\"N/A\")\n",
        "\n",
        "                        overs_list = match.find_all('span', class_='total-overs')\n",
        "                        if len(overs_list) > k:\n",
        "                            to.append(overs_list[k].text)\n",
        "                        else:\n",
        "                            to.append(\"-\")\n",
        "\n",
        "                print(f'Teams:\\t{tn[0]}\\tVs\\t{tn[1]}')\n",
        "\n",
        "                if match.find(class_='not-started'):\n",
        "                    print(\"Status: Match not Yet Started\")\n",
        "                else:\n",
        "                    print(f'Score:\\t{ts[0]}\\t\\t{ts[1]}')\n",
        "                    if 'Yet to bat' in ts:\n",
        "                        if ts[0] == 'Yet to bat':\n",
        "                            print(f'Overs:\\t-\\t\\t{to[0]}')\n",
        "                        else:\n",
        "                            print(f'Overs:\\t{to[0]}\\t\\t-')\n",
        "                    else:\n",
        "                        print(f'Overs:\\t{to[0]}\\t\\t{to[1]}')\n",
        "\n",
        "                live_tag = match.find('div', class_='live-info')\n",
        "                result_tag = match.find('div', class_='result')\n",
        "\n",
        "                if live_tag:\n",
        "                    result = live_tag.find('span').text.strip()\n",
        "                    print(f\"Status: {result}\")\n",
        "                elif result_tag:\n",
        "                    result = result_tag.find('span').text.strip()\n",
        "                    print(f\"Result:\\t{result}\")\n",
        "                    tour = match.find('span', class_='reason').text.strip() if match.find('span', 'reason') else \"-\"\n",
        "                    print(f\"Tournament Name: {tour}\")\n",
        "                else:\n",
        "                    time = match.find('div', class_='start-text').text.strip() if match.find('div', 'start-text') else \"-\"\n",
        "                    print(f\"Timing: {time}\")\n",
        "                    tour = match.find('p', class_=\"time\").text.strip() if match.find('p', 'time') else \"-\"\n",
        "                    print(f\"Tournament Name: {tour}\")\n",
        "\n",
        "                match_link_tag = match.find_parent('a', class_='match-card-wrapper')\n",
        "                if match_link_tag:\n",
        "                    match_link = match_link_tag['href']\n",
        "                    full_link = f\"https://crex.live{match_link}\"\n",
        "                    print(f\"Scorecard Link: {full_link}\")\n",
        "                    scrape_scorecard(full_link)\n",
        "                print()\n"
      ],
      "metadata": {
        "colab": {
          "base_uri": "https://localhost:8080/"
        },
        "id": "DFT3vhBhB-sT",
        "outputId": "aa29172b-82c3-4eaf-ed0b-f6890cf520eb"
      },
      "id": "DFT3vhBhB-sT",
      "execution_count": null,
      "outputs": [
        {
          "output_type": "stream",
          "name": "stdout",
          "text": [
            "\n",
            "Tue, 12 Nov 2024\n",
            "\n",
            "Teams:\tMSW\tVs\tMAR\n",
            "Score:\t161/3\t\t102/6\n",
            "Overs:\t10.0\t\t10.0\n",
            "Result:\tMSW Won\n",
            "Tournament Name: 86th T10, ECS Malta 2024\n",
            "Scorecard Link: https://crex.live/scoreboard/RQL/1OX/86th-Match/OX/OZ/mar-vs-msw-86th-match-european-cricket-series-malta-2024/scorecard\n",
            "Scorecard Details:\n",
            " ['BatterRB4s6sSRMuhammad Suleman c Soman b Johny 8110172.73Umair Saleem c Dianish b Anoop 20703285.71Nowell Khosla(C) c Dianish b Soman 341333261.54Fanyan Mughal lbw b Johny  261122236.36Adnan Hassan NOT OUT 260033.33Arslan Arshad c Johny b Sukumaran 150020.00Sobhan Sarkar c Abraham b Thomas 350060.00Waqas Khan NOT OUT 2200100.00']\n",
            " ['BowlerOMRWERAjin Soman2.001015.00Abishek Anoop2.0047123.50Tom Thomas2.0022111.00Sajith Sukumaran2.001618.00Jithin Johny2.00623.00']\n",
            " ['BatsmanScoreOversUmair Saleem25-11.5Muhammad Suleman61-24.1Nowell Khosla(C)91-36.2Fanyan Mughal95-47.3Arslan Arshad96-58.4Sobhan Sarkar99-69.3']\n",
            "\n",
            "Teams:\tMMA\tVs\tRDS\n",
            "Score:\t72/1\t\t70/7\n",
            "Overs:\t4.4\t\t10.0\n",
            "Result:\tMMA Won\n",
            "Tournament Name: 87th T10, ECS Malta 2024\n",
            "Scorecard Link: https://crex.live/scoreboard/RQM/1OX/87th-Match/Z4/Z5/mma-vs-rds-87th-match-european-cricket-series-malta-2024/scorecard\n",
            "Scorecard Details:\n",
            " ['BatterRB4s6sSRS Raj NOT OUT 25922277.78V Sudhakaran c Madhavan b Thomas 241032240.00B Abraham NOT OUT 20931222.22']\n",
            " ['BowlerOMRWERJ James(C)1.0022022.00A Mohanan2.0024012.00T Thomas1.00919.00A Madhavan0.4017025.50']\n",
            " ['BatsmanScoreOversV Sudhakaran41-12.4']\n",
            "\n",
            "Teams:\tJAM\tVs\tTNT\n",
            "Score:\tYet to bat\t\tYet to bat\n",
            "Overs:\t-\t\t-\n",
            "Status: Toss Delayed\n",
            "Scorecard Link: https://crex.live/scoreboard/RSP/1P1/22nd-Match/HK/HL/jam-vs-tnt-22nd-match-super-50-cup-2024/live\n",
            "No scorecard available\n",
            "\n",
            "\n",
            "Wed, 13 Nov 2024\n",
            "\n",
            "Teams:\tVictoria\tVs\tWestern Australia\n",
            "Status: Match not Yet Started\n",
            "Timing: 11:00 PM\n",
            "Tournament Name: 13th ODI, AUS One Day Cup 2024-25\n",
            "Scorecard Link: https://crex.live/scoreboard/QHX/1N6/13th-Match/3J/3K/vic-vs-waca-13th-match-australia-domestic-oneday-cup-2024-25/info\n",
            "Scorecard Details:\n",
            " [' Team  P  W  L  NRR  Pts  VIC  4  2  2  -0.446  9  WACA  4  1  3  -1.093  4 ']\n",
            " [' 10  Matches Played  10  60%  Win  50%  230  Avg Score  205  349  Highest Score  320  107  Lowest Score  53 ']\n",
            "\n",
            "Teams:\tGoa\tVs\tArunachal Pradesh\n",
            "Status: Match not Yet Started\n",
            "Timing: 4:00 AM\n",
            "Tournament Name: 13th Test, Ranji Plate 2024-25\n",
            "Scorecard Link: https://crex.live/scoreboard/PQO/1M5/13th-Match/GG/GS/ap-vs-goa-13th-match-ranji-trophy-plate-2024-25/info\n",
            "Scorecard Details:\n",
            " [' Team  P  W  L  NRR  Pts  GOA  4  4  0  0  26  AP  4  0  4  0  0 ']\n",
            " [' 10  Matches Played  10  40%  Win  0%  327  Avg Score  168  618  Highest Score  295  104  Lowest Score  75 ']\n",
            "\n",
            "Teams:\tManipur\tVs\tSikkim\n",
            "Status: Match not Yet Started\n",
            "Timing: 4:00 AM\n",
            "Tournament Name: 14th Test, Ranji Plate 2024-25\n",
            "Scorecard Link: https://crex.live/scoreboard/PQP/1M5/14th-Match/GC/GE/mnp-vs-sikm-14th-match-ranji-trophy-plate-2024-25/info\n",
            "Scorecard Details:\n",
            " [' Team  P  W  L  NRR  Pts  SIKM  4  2  2  0  12  MNP  4  1  3  0  6 ']\n",
            " [' 10  Matches Played  10  10%  Win  40%  146  Avg Score  262  270  Highest Score  544  67  Lowest Score  79 ']\n",
            "\n",
            "Teams:\tMizoram\tVs\tNagaland\n",
            "Status: Match not Yet Started\n",
            "Timing: 4:00 AM\n",
            "Tournament Name: 15th Test, Ranji Plate 2024-25\n",
            "Scorecard Link: https://crex.live/scoreboard/PQQ/1M5/15th-Match/GH/GI/miz-vs-nagl-15th-match-ranji-trophy-plate-2024-25/info\n",
            "No scorecard available\n",
            "\n",
            "Teams:\tMadhya Pradesh\tVs\tBengal\n",
            "Status: Match not Yet Started\n",
            "Timing: 4:00 AM\n",
            "Tournament Name: 65th Test, Ranji Elite 2024-25\n",
            "Scorecard Link: https://crex.live/scoreboard/PSK/1M4/65th-Match/GQ/H4/ben-vs-mp-65th-match-ranji-trophy-elite-2024-25/info\n",
            "Scorecard Details:\n",
            " [' Team  P  W  L  NRR  Pts  MP  4  1  0  0  10  BEN  4  0  0  0  8 ']\n",
            " [' 10  Matches Played  10  50%  Win  20%  315  Avg Score  296  616  Highest Score  411  200  Lowest Score  180 ']\n",
            "\n",
            "Teams:\tPunjab\tVs\tBihar\n",
            "Status: Match not Yet Started\n",
            "Timing: 4:00 AM\n",
            "Tournament Name: 66th Test, Ranji Elite 2024-25\n",
            "Scorecard Link: https://crex.live/scoreboard/PSL/1M4/66th-Match/GD/HC/bihr-vs-pun-66th-match-ranji-trophy-elite-2024-25/info\n",
            "Scorecard Details:\n",
            " [' Team  P  W  L  NRR  Pts  PUN  4  0  2  0  4  BIHR  4  0  3  0  1 ']\n",
            " [' 10  Matches Played  10  10%  Win  0%  226  Avg Score  189  477  Highest Score  377  109  Lowest Score  78 ']\n",
            "\n",
            "Teams:\tHaryana\tVs\tKerala\n",
            "Status: Match not Yet Started\n",
            "Timing: 4:00 AM\n",
            "Tournament Name: 67th Test, Ranji Elite 2024-25\n",
            "Scorecard Link: https://crex.live/scoreboard/PSM/1M4/67th-Match/GJ/GL/har-vs-ker-67th-match-ranji-trophy-elite-2024-25/info\n",
            "Scorecard Details:\n",
            " [' Team  P  W  L  NRR  Pts  HAR  4  2  0  0  19  KER  4  2  0  0  15 ']\n",
            " [' 10  Matches Played  10  50%  Win  30%  310  Avg Score  320  509  Highest Score  514  103  Lowest Score  161 ']\n",
            "\n",
            "Teams:\tChhattisgarh\tVs\tAssam\n",
            "Status: Match not Yet Started\n",
            "Timing: 4:00 AM\n",
            "Tournament Name: 68th Test, Ranji Elite 2024-25\n",
            "Scorecard Link: https://crex.live/scoreboard/PSN/1M4/68th-Match/H0/H2/asm-vs-chg-68th-match-ranji-trophy-elite-2024-25/info\n",
            "No scorecard available\n",
            "\n",
            "Teams:\tChandigarh\tVs\tSaurashtra\n",
            "Status: Match not Yet Started\n",
            "Timing: 4:00 AM\n",
            "Tournament Name: 69th Test, Ranji Elite 2024-25\n",
            "Scorecard Link: https://crex.live/scoreboard/PSO/1M4/69th-Match/GF/GT/cg-vs-saur-69th-match-ranji-trophy-elite-2024-25/info\n",
            "No scorecard available\n",
            "\n",
            "Teams:\tDelhi\tVs\tJharkhand\n",
            "Status: Match not Yet Started\n",
            "Timing: 4:00 AM\n",
            "Tournament Name: 70th Test, Ranji Elite 2024-25\n",
            "Scorecard Link: https://crex.live/scoreboard/PSP/1M4/70th-Match/GO/H6/del-vs-jhkd-70th-match-ranji-trophy-elite-2024-25/info\n",
            "No scorecard available\n",
            "\n",
            "Teams:\tRailways\tVs\tTamil Nadu\n",
            "Status: Match not Yet Started\n",
            "Timing: 4:00 AM\n",
            "Tournament Name: 71st Test, Ranji Elite 2024-25\n",
            "Scorecard Link: https://crex.live/scoreboard/PSQ/1M4/71st-Match/H7/H8/rlys-vs-tn-71st-match-ranji-trophy-elite-2024-25/info\n",
            "No scorecard available\n",
            "\n",
            "Teams:\tUttar Pradesh\tVs\tKarnataka\n",
            "Status: Match not Yet Started\n",
            "Timing: 4:00 AM\n",
            "Tournament Name: 72nd Test, Ranji Elite 2024-25\n",
            "Scorecard Link: https://crex.live/scoreboard/PSR/1M4/72nd-Match/H9/HD/kar-vs-up-72nd-match-ranji-trophy-elite-2024-25/info\n",
            "Scorecard Details:\n",
            " [' Team  P  W  L  NRR  Pts  KAR  4  1  0  0  9  UP  4  0  1  0  5 ']\n",
            " [' 10  Matches Played  10  10%  Win  30%  278  Avg Score  284  556  Highest Score  563  45  Lowest Score  0 ']\n",
            "\n",
            "Teams:\tUttarakhand\tVs\tRajasthan\n",
            "Status: Match not Yet Started\n",
            "Timing: 4:00 AM\n",
            "Tournament Name: 73rd Test, Ranji Elite 2024-25\n",
            "Scorecard Link: https://crex.live/scoreboard/PSS/1M4/73rd-Match/GV/GY/raj-vs-utk-73rd-match-ranji-trophy-elite-2024-25/info\n",
            "Scorecard Details:\n",
            " [' Team  P  W  L  NRR  Pts  RAJ  4  1  0  0  13  UTK  4  1  2  0  9 ']\n",
            " [' 10  Matches Played  10  30%  Win  30%  257  Avg Score  309  382  Highest Score  432  0  Lowest Score  153 ']\n",
            "\n",
            "Teams:\tBaroda\tVs\tMeghalaya\n",
            "Status: Match not Yet Started\n",
            "Timing: 4:00 AM\n",
            "Tournament Name: 74th Test, Ranji Elite 2024-25\n",
            "Scorecard Link: https://crex.live/scoreboard/PST/1M4/74th-Match/GK/GW/brd-vs-mgly-74th-match-ranji-trophy-elite-2024-25/info\n",
            "No scorecard available\n",
            "\n",
            "Teams:\tJammu and Kashmir\tVs\tTripura\n",
            "Status: Match not Yet Started\n",
            "Timing: 4:00 AM\n",
            "Tournament Name: 75th Test, Ranji Elite 2024-25\n",
            "Scorecard Link: https://crex.live/scoreboard/PSU/1M4/75th-Match/HA/HB/j&k-vs-tri-75th-match-ranji-trophy-elite-2024-25/info\n",
            "No scorecard available\n",
            "\n",
            "Teams:\tOdisha\tVs\tMaharashtra\n",
            "Status: Match not Yet Started\n",
            "Timing: 4:00 AM\n",
            "Tournament Name: 76th Test, Ranji Elite 2024-25\n",
            "Scorecard Link: https://crex.live/scoreboard/PSV/1M4/76th-Match/GZ/H3/mah-vs-odsa-76th-match-ranji-trophy-elite-2024-25/info\n"
          ]
        }
      ]
    },
    {
      "cell_type": "code",
      "source": [],
      "metadata": {
        "id": "rJHWu_7JJVe7"
      },
      "id": "rJHWu_7JJVe7",
      "execution_count": null,
      "outputs": []
    }
  ],
  "metadata": {
    "kernelspec": {
      "display_name": "Python 3 (ipykernel)",
      "language": "python",
      "name": "python3"
    },
    "language_info": {
      "codemirror_mode": {
        "name": "ipython",
        "version": 3
      },
      "file_extension": ".py",
      "mimetype": "text/x-python",
      "name": "python",
      "nbconvert_exporter": "python",
      "pygments_lexer": "ipython3",
      "version": "3.9.13"
    },
    "colab": {
      "provenance": []
    }
  },
  "nbformat": 4,
  "nbformat_minor": 5
}